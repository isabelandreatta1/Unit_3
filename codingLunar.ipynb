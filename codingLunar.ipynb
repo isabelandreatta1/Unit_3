{
  "nbformat": 4,
  "nbformat_minor": 0,
  "metadata": {
    "colab": {
      "name": " codingLunar.ipynb",
      "provenance": [],
      "authorship_tag": "ABX9TyOUcIsgWPIECWKFNGWonmIy",
      "include_colab_link": true
    },
    "kernelspec": {
      "name": "python3",
      "display_name": "Python 3"
    }
  },
  "cells": [
    {
      "cell_type": "markdown",
      "metadata": {
        "id": "view-in-github",
        "colab_type": "text"
      },
      "source": [
        "<a href=\"https://colab.research.google.com/github/isabelandreatta1/Unit_3/blob/main/codingLunar.ipynb\" target=\"_parent\"><img src=\"https://colab.research.google.com/assets/colab-badge.svg\" alt=\"Open In Colab\"/></a>"
      ]
    },
    {
      "cell_type": "markdown",
      "metadata": {
        "id": "LcA4uKLsJgfa"
      },
      "source": [
        "1.  In a town there are X men, each man has X wives and each wife has X kids, you should print the total T number of people in this town."
      ]
    },
    {
      "cell_type": "code",
      "metadata": {
        "colab": {
          "base_uri": "https://localhost:8080/"
        },
        "id": "Rv8pT43tJLjz",
        "outputId": "ec6da482-0e61-45f3-b6c1-16cf557aefb5"
      },
      "source": [
        "x = int(input())\n",
        "population = 0 \n",
        "for men in range(x):\n",
        "  population += 1 \n",
        "  for women in range(x):\n",
        "    population += 1 \n",
        "    for children in range(x):\n",
        "      population += 1\n",
        "\n",
        "print(population)"
      ],
      "execution_count": 11,
      "outputs": [
        {
          "output_type": "stream",
          "text": [
            "7\n",
            "399\n"
          ],
          "name": "stdout"
        }
      ]
    },
    {
      "cell_type": "markdown",
      "metadata": {
        "id": "uK670_NULO8s"
      },
      "source": [
        "2. 2. For decode it follow rules:\n",
        "\n",
        "1) Convert each characters to integer\n",
        "\n",
        "2) Make the sum of each characters\n",
        "\n",
        "3) Multiply it by 2\n",
        "\n",
        "4) Replace all odd numbers by \"@\"\n",
        "\n",
        "5) Add \" thnx tanaka\""
      ]
    },
    {
      "cell_type": "code",
      "metadata": {
        "colab": {
          "base_uri": "https://localhost:8080/"
        },
        "id": "SGam5OcfLT4Z",
        "outputId": "7be441ce-7e7a-480a-81e5-508481394dc1"
      },
      "source": [
        "string = input()\n",
        "sumofcharacters = 0 \n",
        "timestwo= 0 \n",
        "finalstring = \"\"\n",
        "for i in range(len(string)):\n",
        "  sumofcharacters += int(string[i])\n",
        "timestwo = (str(sumofcharacters*2)) \n",
        "for i in range(len(timestwo)):\n",
        "  if int(timestwo[i])%2 != 0: \n",
        "    finalstring += \"@\"\n",
        "  else:\n",
        "    finalstring+= timestwo[i]\n",
        "\n",
        "print(finalstring,\" thnx tanaka\")\n"
      ],
      "execution_count": 26,
      "outputs": [
        {
          "output_type": "stream",
          "text": [
            "5121321321321321321\n",
            "@8  thnx tanaka\n"
          ],
          "name": "stdout"
        }
      ]
    },
    {
      "cell_type": "markdown",
      "metadata": {
        "id": "x8O0UgKkPRY6"
      },
      "source": [
        "3.\n",
        " A number that is not a whole number can be either a decimal, fraction, or percentage. A decimal is a string that has a '.', a fraction has a '/', and a percentage ends with a '%'. Output all three ways to show the number not_whole.\n",
        "The order should be decimal, fraction, and then percentage.\n",
        "\n",
        "The fraction is not simplified fraction (it's denominator is 100). The decimal for an integer should be written with exactly one 0 after the decimal point."
      ]
    },
    {
      "cell_type": "code",
      "metadata": {
        "colab": {
          "base_uri": "https://localhost:8080/",
          "height": 232
        },
        "id": "32IgqCw1Txrq",
        "outputId": "6ee25181-373a-4d62-be61-593012539561"
      },
      "source": [
        "input = input()\n",
        "notwholenumber = \"\"\n",
        "\n",
        "if \"%\" in input: \n",
        "  notwholenumber = input[:-1]\n",
        "if \".\" in input: \n",
        "  notwholenumber = input[2:]\n",
        "if \"/\" in input:\n",
        "  notwholenumber = input[:-4]\n",
        "\n",
        "print(\"0.\"+notwholenumber)\n",
        "print(notwholenumber+\"/100\")\n",
        "print(notwholenumber+\"%\")"
      ],
      "execution_count": 45,
      "outputs": [
        {
          "output_type": "error",
          "ename": "TypeError",
          "evalue": "ignored",
          "traceback": [
            "\u001b[0;31m---------------------------------------------------------------------------\u001b[0m",
            "\u001b[0;31mTypeError\u001b[0m                                 Traceback (most recent call last)",
            "\u001b[0;32m<ipython-input-45-d9e8fa79fc94>\u001b[0m in \u001b[0;36m<module>\u001b[0;34m()\u001b[0m\n\u001b[0;32m----> 1\u001b[0;31m \u001b[0minput\u001b[0m \u001b[0;34m=\u001b[0m \u001b[0minput\u001b[0m\u001b[0;34m(\u001b[0m\u001b[0;34m)\u001b[0m\u001b[0;34m\u001b[0m\u001b[0;34m\u001b[0m\u001b[0m\n\u001b[0m\u001b[1;32m      2\u001b[0m \u001b[0mnotwholenumber\u001b[0m \u001b[0;34m=\u001b[0m \u001b[0;34m\"\"\u001b[0m\u001b[0;34m\u001b[0m\u001b[0;34m\u001b[0m\u001b[0m\n\u001b[1;32m      3\u001b[0m \u001b[0;34m\u001b[0m\u001b[0m\n\u001b[1;32m      4\u001b[0m \u001b[0;32mif\u001b[0m \u001b[0;34m\"%\"\u001b[0m \u001b[0;32min\u001b[0m \u001b[0minput\u001b[0m\u001b[0;34m:\u001b[0m\u001b[0;34m\u001b[0m\u001b[0;34m\u001b[0m\u001b[0m\n\u001b[1;32m      5\u001b[0m   \u001b[0mnotwholenumber\u001b[0m \u001b[0;34m=\u001b[0m \u001b[0minput\u001b[0m\u001b[0;34m[\u001b[0m\u001b[0;34m:\u001b[0m\u001b[0;34m-\u001b[0m\u001b[0;36m1\u001b[0m\u001b[0;34m]\u001b[0m\u001b[0;34m\u001b[0m\u001b[0;34m\u001b[0m\u001b[0m\n",
            "\u001b[0;31mTypeError\u001b[0m: 'str' object is not callable"
          ]
        }
      ]
    },
    {
      "cell_type": "markdown",
      "metadata": {
        "id": "lv1lj-EkT723"
      },
      "source": [
        "For some reason, the same code works on pycharm but doesn't work on colab. Below is evidence of the pycharm version. ![Screen Shot 2021-02-18 at 5.43.57 PM.png](data:image/png;base64,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)"
      ]
    }
  ]
}