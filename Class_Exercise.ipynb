{
  "nbformat": 4,
  "nbformat_minor": 0,
  "metadata": {
    "colab": {
      "name": "Class Exercise",
      "provenance": [],
      "authorship_tag": "ABX9TyNDhn+MmsfGJqdqtRUTaJKQ",
      "include_colab_link": true
    },
    "kernelspec": {
      "name": "python3",
      "display_name": "Python 3"
    }
  },
  "cells": [
    {
      "cell_type": "markdown",
      "metadata": {
        "id": "view-in-github",
        "colab_type": "text"
      },
      "source": [
        "<a href=\"https://colab.research.google.com/github/isabelandreatta1/Unit_3/blob/main/Class_Exercise.ipynb\" target=\"_parent\"><img src=\"https://colab.research.google.com/assets/colab-badge.svg\" alt=\"Open In Colab\"/></a>"
      ]
    },
    {
      "cell_type": "markdown",
      "metadata": {
        "id": "zOd3H9OxqHw-"
      },
      "source": [
        "#Class Exercise\n",
        "Context : Vinyl Record Shop"
      ]
    },
    {
      "cell_type": "code",
      "metadata": {
        "id": "cHx9jUIAqOH_"
      },
      "source": [
        "class VinylRecord():\n",
        "  number_of_vinylrecords = 0 \n",
        "  #constructor:\n",
        "  def __init__(self, name):\n",
        "    self.size = 0 \n",
        "    self.rpm = 0 \n",
        "    self.price = 0 \n",
        "    self.tracknumber = 0\n",
        "    self.yearpublished = 0 \n",
        "    self.currenttrack = 0 \n",
        "    self.name = name\n",
        "    VinylRecord.number_of_vinylrecords += 1\n",
        "\n",
        "    #Method to get number of tracks: \n",
        "    def get_number_tracks():\n",
        "      return self.tracknumber \n",
        "    \n",
        "    #Method to change next track: \n",
        "    def change_track(): \n",
        "      while self.currenttrack >= self.tracknumber:\n",
        "        self.tracknumber += 1\n",
        "      else: \n",
        "        self.tracknumber = 1 \n"
      ],
      "execution_count": 15,
      "outputs": []
    },
    {
      "cell_type": "code",
      "metadata": {
        "colab": {
          "base_uri": "https://localhost:8080/"
        },
        "id": "UoEy-iDBs7o2",
        "outputId": "b52e281d-c338-44fb-9ef7-b62e8177f736"
      },
      "source": [
        "print(f\"number of vinyl records {VinylRecord.number_of_vinylrecords}\")\n",
        "\n",
        "record_1 =  VinylRecord(name = \"Tadaima\")\n",
        "print(f\"number of vinyl records after adding Tadaima {VinylRecord.number_of_vinylrecords}\")\n",
        "\n",
        "record_2 = VinylRecord(name = \"Japanese Girl\")\n",
        "print(f\"number of vinyl records after adding Japanese Girl {VinylRecord.number_of_vinylrecords}\")"
      ],
      "execution_count": 16,
      "outputs": [
        {
          "output_type": "stream",
          "text": [
            "number of vinyl records 0\n",
            "number of vinyl records after adding Tadaima 1\n",
            "number of vinyl records after adding Japanese Girl 2\n"
          ],
          "name": "stdout"
        }
      ]
    },
    {
      "cell_type": "code",
      "metadata": {
        "id": "oQS3SS35tHov"
      },
      "source": [
        ""
      ],
      "execution_count": null,
      "outputs": []
    }
  ]
}