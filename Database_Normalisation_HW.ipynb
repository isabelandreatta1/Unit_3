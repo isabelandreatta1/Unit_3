{
  "nbformat": 4,
  "nbformat_minor": 0,
  "metadata": {
    "colab": {
      "name": "Database Normalisation HW.ipynb",
      "provenance": [],
      "authorship_tag": "ABX9TyPm5JPS8qFuWLV75V9Eltsj",
      "include_colab_link": true
    },
    "kernelspec": {
      "name": "python3",
      "display_name": "Python 3"
    }
  },
  "cells": [
    {
      "cell_type": "markdown",
      "metadata": {
        "id": "view-in-github",
        "colab_type": "text"
      },
      "source": [
        "<a href=\"https://colab.research.google.com/github/isabelandreatta1/Unit_3/blob/main/Database_Normalisation_HW.ipynb\" target=\"_parent\"><img src=\"https://colab.research.google.com/assets/colab-badge.svg\" alt=\"Open In Colab\"/></a>"
      ]
    },
    {
      "cell_type": "markdown",
      "metadata": {
        "id": "OqPSZRp4GtAh"
      },
      "source": [
        "#Scenario\n",
        "\n",
        "Conside the following data from a school:\n",
        "\n",
        "| Student Name  | Fees Paid | Date of Birth | Address                             | Subject 1              | Subject 2                 | Subject 3          | Subject 4 | Teacher Name   | Teacher Address               | Course Name      |\n",
        "|---------------|-----------|---------------|-------------------------------------|------------------------|---------------------------|--------------------|-----------|----------------|-------------------------------|------------------|\n",
        "| John Smith    | 18-Jul-00 | 04-Aug-91     | 3 Main Street, North Boston 56125   | Economics 1 (Business) | Biology 1 (Science)       |                    |           | James Peterson | 44 March Way, Glebe 56100     | Economics        |\n",
        "| Maria Griffin | 14-May-01 | 10-Sep-92     | 16 Leeds Road, South Boston 56128   | Biology 1 (Science)    | Business Intro (Business) | Programming 2 (IT) |           | James Peterson | 44 March Way, Glebe 56100     | Computer Science |\n",
        "| Susan Johnson | 03-Feb-01 | 13-Jan-91     | 21 Arrow Street, South Boston 56128 | Biology 2 (Science)    |                           |                    |           | Sarah Francis  |                               | Medicine         |\n",
        "| Matt Long     | 29-Apr-02 | 25-Apr-92     | 14 Milk Lane,Â South Boston 56128   |                        |                           |                    |           | Shane Cobson   | 105 Mist Road, Faulkner 56410 | Dentistry        |\n",
        "\n",
        "## Tasks\n",
        "\n",
        "1. Normalize this table up to **3NF** [(see slides from class here)](https://https://docs.google.com/presentation/d/1sADUiD8YFt88YvV8UyHVhhPe7ks8K8Xpp3y-WPDJ2zc/edit#slide=id.p)\n",
        "1. Create the ER diagram for the normalized database.\n"
      ]
    },
    {
      "cell_type": "markdown",
      "metadata": {
        "id": "n6BW57x4G2xz"
      },
      "source": [
        "**Table 1: Student Information**\n",
        "\n",
        "\n",
        "| Student ID | Name          | Fees Paid | Date of Birth | Address                             |\n",
        "|------------|---------------|-----------|---------------|-------------------------------------|\n",
        "| 1          | John Smith    | 18-Jul-00 | 04-Aug-91     | 3 Main Street, North Boston 56125   |\n",
        "| 2          | Maria Griffin | 14-May-01 | 10-Sep-92     | 44 March Way, Glebe 56100           |\n",
        "| 3          | Susan Johnson | 03-Feb-01 | 13-Jan-91     | 21 Arrow Street, South Boston 56128 |\n",
        "| 4          | Matt Long     | 29-Apr-02 | 25-Apr-92     | 14 Milk Lane,Â South Boston 56128   |\n"
      ]
    },
    {
      "cell_type": "markdown",
      "metadata": {
        "id": "87m7bkUmIIeR"
      },
      "source": [
        "**Table 2: Teacher Information**\n",
        "\n",
        "| Teacher ID | Name           | Teacher Address               |\n",
        "|------------|----------------|-------------------------------|\n",
        "| 1          | James Peterson | 44 March Way, Glebe 56100     |\n",
        "| 2          | Sarah Francis  |                               |\n",
        "| 3          | Shane Cobson   | 105 Mist Road, Faulkner 56410 |"
      ]
    },
    {
      "cell_type": "markdown",
      "metadata": {
        "id": "uqWPKkWQJYMZ"
      },
      "source": [
        "**Table 3: Course Information** \n",
        "\n",
        "| Course ID | Course Name      |\n",
        "|-----------|------------------|\n",
        "| 1         | Economics        |\n",
        "| 2         | Computer Science |\n",
        "| 3         | Medicine         |\n",
        "| 4         | Dentistry        |"
      ]
    },
    {
      "cell_type": "markdown",
      "metadata": {
        "id": "VkxQMrN3J2Nm"
      },
      "source": [
        "**Table 4: Course-to-teacher Relationship** \n",
        "\n",
        "| Course and teacher ID | Course ID | Teacher ID |\n",
        "|-----------------------|-----------|------------|\n",
        "| 1                     | 1         | 1          |\n",
        "| 2                     | 2         | 1          |\n",
        "| 3                     | 3         | 2          |\n",
        "| 4                     | 4         | 3          |"
      ]
    },
    {
      "cell_type": "markdown",
      "metadata": {
        "id": "eyBvvp-yQbCZ"
      },
      "source": [
        "**Table 5: Subject Information** \n",
        "\n",
        "| Subject ID | Subject Name              |\n",
        "|------------|---------------------------|\n",
        "| 1          | Economics 1 (Business)    |\n",
        "| 2          | Biology 1 (Science)       |\n",
        "| 3          | Biology 2 (Science)       |\n",
        "| 4          | Business Intro (Business) |\n",
        "| 5          | Programming (IT)          |"
      ]
    },
    {
      "cell_type": "markdown",
      "metadata": {
        "id": "pJtHdlYKRvMv"
      },
      "source": [
        "**Table 6: Student to Subject Relationship**\n",
        "\n",
        "| Student-to-subject ID | Subject 1 ID | Subject 2 ID | Subject 3 ID | Student ID |\n",
        "|-----------------------|--------------|--------------|--------------|------------|\n",
        "| 1                     | 1            | 2            |              | 1          |\n",
        "| 2                     | 2            | 4            | 5            | 2          |\n",
        "| 3                     | 3            |              |              | 3          |\n",
        "| 4                     |              |              |              | 4          |"
      ]
    },
    {
      "cell_type": "markdown",
      "metadata": {
        "id": "eai6PFosQyuF"
      },
      "source": [
        "**Table 7: Student to Course relationship** \n",
        "\n",
        "| Student-to-course ID | Student ID | Course ID |\n",
        "|----------------------|------------|-----------|\n",
        "| 1                    | 1          | 1         |\n",
        "| 2                    | 2          | 2         |\n",
        "| 3                    | 3          | 3         |\n",
        "| 4                    | 4          | 4         |\n",
        "\n",
        "\n",
        "\n"
      ]
    },
    {
      "cell_type": "code",
      "metadata": {
        "id": "A1Dx_iZAiAkb"
      },
      "source": [
        "CREATE TABLE IF NOT EXISTS student_info(\n",
        "    ID INTEGER PRIMARY KEY AUTOINCREMENT NOT NULL,\n",
        "    name TEXT,\n",
        "    fees_paid DATE,\n",
        "    date_of_birth DATE,\n",
        "    address VARCHAR(150));\n",
        "-- reason why you put not exists because it may try to add to previous ones and create error\n",
        "\n",
        "INSERT INTO student_info(name,fees_paid,date_of_birth,address)\n",
        "VALUES ('John Smith ','18-Jul-00 ','04-Aug-91','3 Main Street, North Boston 56125');\n",
        "-- delete from student_info where id = 2;\n",
        "INSERT INTO student_info(name,fees_paid,date_of_birth,address)\n",
        "VALUES('Maria Griffin','14-May-01','10-Sep-92','44 March Way, Glebe 56100');\n",
        "\n",
        "INSERT INTO student_info(name,fees_paid,date_of_birth,address)\n",
        "VALUES('Susan Johnson','03-Feb-01','13-Jan-91','21 Arrow Street, South Boston 56128');\n",
        "\n",
        "INSERT INTO student_info(name, fees_paid, date_of_birth,address)\n",
        "VALUES('Matt Long','29-Apr-02','25-Apr-92','14 Milk Lane,Â South Boston 56128');\n",
        "\n",
        "CREATE TABLE IF NOT EXISTS teacher_info(\n",
        "    ID INTEGER PRIMARY KEY AUTOINCREMENT NOT NULL,\n",
        "    name TEXT,\n",
        "    teacher_address TEXT\n",
        ");\n",
        "\n",
        "INSERT INTO teacher_info(name, teacher_address)\n",
        "VALUES ('James Peterson','44 March Way, Glebe 56100');\n",
        "\n",
        "INSERT INTO teacher_info(name)\n",
        "VALUES('Sarah Francis');\n",
        "\n",
        "INSERT INTO teacher_info(name, teacher_address)\n",
        "VALUES ('Shane Cobson','105 Mist Road, Faulkner 56410');\n",
        "\n",
        "CREATE TABLE IF NOT EXISTS course_info(\n",
        "    ID INTEGER PRIMARY KEY AUTOINCREMENT NOT NULL,\n",
        "    course_name varchar(50)\n",
        ");\n",
        "\n",
        "INSERT INTO course_info(course_name)\n",
        "VALUES ('Economics');\n",
        "\n",
        "INSERT INTO course_info(course_name)\n",
        "VALUES ('Computer Science');\n",
        "\n",
        "INSERT INTO course_info(course_name)\n",
        "VALUES ('Medicine');\n",
        "\n",
        "INSERT INTO course_info(course_name)\n",
        "VALUES ('Dentistry');\n",
        "\n",
        "CREATE TABLE IF NOT EXISTS subject_info(\n",
        "    ID INTEGER PRIMARY KEY AUTOINCREMENT NOT NULL,\n",
        "    subject_name TEXT\n",
        ");\n",
        "\n",
        "INSERT INTO subject_info(subject_name)\n",
        "VALUES ('Economics 1 (Business)');\n",
        "\n",
        "INSERT INTO subject_info(subject_name)\n",
        "VALUES ('Biology 1 (Science)');\n",
        "\n",
        "INSERT INTO subject_info(subject_name)\n",
        "VALUES ('Biology 2 (Science)');\n",
        "\n",
        "INSERT INTO subject_info(subject_name)\n",
        "VALUES ('Business Intro (Business)');\n",
        "\n",
        "INSERT INTO subject_info(subject_name)\n",
        "VALUES ('Programming (IT)');\n",
        "\n",
        "CREATE TABLE IF NOT EXISTS course_to_teacher(\n",
        "    ID INTEGER PRIMARY KEY AUTOINCREMENT NOT NULL,\n",
        "    course_id INTEGER NOT NULL,\n",
        "    teacher_id INTEGER NOT NULL,\n",
        "    FOREIGN KEY (course_id) REFERENCES course_info(ID),\n",
        "    FOREIGN KEY (teacher_id) REFERENCES teacher_info(ID)\n",
        ");\n",
        "\n",
        "INSERT INTO course_to_teacher(course_id, teacher_id)\n",
        "VALUES(1,1);\n",
        "\n",
        "INSERT INTO course_to_teacher(course_id, teacher_id)\n",
        "VALUES(2,1);\n",
        "\n",
        "INSERT INTO course_to_teacher(course_id, teacher_id)\n",
        "VALUES(3,2);\n",
        "\n",
        "INSERT INTO course_to_teacher(course_id, teacher_id)\n",
        "VALUES(2,4);\n",
        "\n",
        "CREATE TABLE IF NOT EXISTS student_to_course(\n",
        "    ID INTEGER PRIMARY KEY AUTOINCREMENT NOT NULL,\n",
        "    student_id INTEGER NOT NULL,\n",
        "    course_id INTEGER NOT NULL,\n",
        "    FOREIGN KEY (student_id) REFERENCES student_info(ID),\n",
        "    FOREIGN KEY (course_id) REFERENCES course_info(ID)\n",
        ");\n",
        "\n",
        "INSERT INTO student_to_course(student_id, course_id)\n",
        "VALUES (1,1);\n",
        "\n",
        "INSERT INTO student_to_course(student_id, course_id)\n",
        "VALUES (2,2);\n",
        "\n",
        "INSERT INTO student_to_course(student_id, course_id)\n",
        "VALUES (3,3);\n",
        "\n",
        "INSERT INTO student_to_course(student_id, course_id)\n",
        "VALUES (4,4);\n",
        "\n",
        "CREATE TABLE IF NOT EXISTS student_to_subject(\n",
        "    ID INTEGER PRIMARY KEY AUTOINCREMENT NOT NULL ,\n",
        "    student_id INTEGER NOT NULL ,\n",
        "    subject1_id INTEGER,\n",
        "    subject2_id INTEGER,\n",
        "    subject3_id INTEGER,\n",
        "    FOREIGN KEY (student_id) REFERENCES student_info(ID),\n",
        "    FOREIGN KEY (subject1_id) REFERENCES subject_info(ID),\n",
        "    FOREIGN KEY (subject2_id) REFERENCES subject_info(ID),\n",
        "    FOREIGN KEY (subject3_id) REFERENCES subject_info(ID)\n",
        "    );\n",
        "\n",
        "INSERT INTO student_to_subject(student_id, subject1_id, subject2_id)\n",
        "VALUES (1,1,2);\n",
        "\n",
        "INSERT INTO student_to_subject(student_id, subject1_id, subject2_id, subject3_id)\n",
        "VALUES(2,2,4,5);\n",
        "\n",
        "INSERT INTO student_to_subject(student_id, subject1_id)\n",
        "VALUES(3,3);\n",
        "\n",
        "INSERT INTO student_to_subject(student_id)\n",
        "VALUES(4);"
      ],
      "execution_count": null,
      "outputs": []
    }
  ]
}